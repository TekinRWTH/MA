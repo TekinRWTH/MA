import cv2 

vidcap = cv2.VideoCapture("Basler2slow.mp4")
success, image = vidcap.read()
success = True

count = 0 
while vidcap.isOpened:
    success, image = vidcap.read()
    cv2.imwrite(r"Frame/Basler2Slow/Frame%04d.png" % count, image )
    count+=1
