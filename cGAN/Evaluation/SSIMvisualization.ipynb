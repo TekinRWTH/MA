import cv2
import numpy as np
import matplotlib.pyplot as plt
from skimage.metrics import structural_similarity as ssim

# Load images
image1 = cv2.imread("/Users/deniztekin/Documents/Uni/Masterarbeit/label/label_1_batch_16.tiff")
image2 = cv2.imread("/Users/deniztekin/Documents/Uni/Masterarbeit/y_gen/y_gen_255_batch_16.tiff")

# Convert to grayscale
gray1 = cv2.cvtColor(image1, cv2.COLOR_BGR2GRAY)
gray2 = cv2.cvtColor(image2, cv2.COLOR_BGR2GRAY)

# Compute SSIM and the difference map
ssim_score, diff = ssim(gray1, gray2, full=True)
diff = (diff * 255).astype("uint8")  # Normalize to 0-255

# Print SSIM value (but not in the image)
print(f"SSIM Score: {ssim_score:.4f}")

# Create figure
fig, axes = plt.subplots(1, 3, figsize=(12, 4))
axes[0].imshow(cv2.cvtColor(image1, cv2.COLOR_BGR2RGB))
axes[0].set_title("TI", fontsize=16)
axes[0].axis("off")

axes[1].imshow(cv2.cvtColor(image2, cv2.COLOR_BGR2RGB))
axes[1].set_title("Generiertes Bild", fontsize=16)
axes[1].axis("off")

axes[2].imshow(diff, cmap="gray")
axes[2].set_title("SSIM", fontsize=16)
axes[2].axis("off")

plt.tight_layout()

# Save as SVG (without SSIM value in the image)
output_path = "ssim_visualization.svg"
plt.savefig(output_path, format="svg", bbox_inches="tight")

# Show the plot
plt.show()

print(f"Saved SSIM visualization as: {output_path}")
