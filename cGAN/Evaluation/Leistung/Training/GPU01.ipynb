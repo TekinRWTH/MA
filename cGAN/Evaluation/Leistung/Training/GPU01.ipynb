import pandas as pd
import matplotlib.pyplot as plt

# Load the CSV file
file_path = "Utilization/stats1.csv"  # Adjust if needed
df = pd.read_csv(file_path)

# Create the plot
plt.figure(figsize=(10, 6))
plt.plot(df["epoch"], df["gpu_0_usage_percent"], marker='o', linestyle='-', color='blue', label="GPU0-Auslastung pro Epoche")
plt.plot(df["epoch"], df["gpu_1_usage_percent"], marker='o', linestyle='-', color='#008C69', label="GPU1-Auslastung pro Epoche")  # Pantone 334C

# Formatting
plt.title("GPU-Auslastungen pro Epoche", fontsize=11)
plt.xlabel("Epoche", fontsize=11)
plt.ylabel("GPU-Auslastung (%)", fontsize=11)
plt.legend()
plt.grid(True)

# Save the figure
plt.savefig("Utilization/gpu01.svg", format="svg", bbox_inches="tight")

# Show the plot
plt.show()
