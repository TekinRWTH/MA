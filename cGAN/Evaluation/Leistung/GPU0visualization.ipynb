import pandas as pd
import matplotlib.pyplot as plt

# Load the CSV file
file_path = "Utilization/stats0.csv"  # Adjust the file path if needed
df = pd.read_csv(file_path)

# Apply a rolling mean with a window of 30 to smooth the GPU usage
smoothed_gpu0_window_30 = df["gpu_0_usage_percent"].rolling(window=30, min_periods=1).mean()

# Create the plot
plt.figure(figsize=(10, 6))
plt.plot(df["epoch"], df["gpu_0_usage_percent"], marker='o', linestyle='-', label='GPU-0-Auslastung pro Epoche')
plt.plot(df["epoch"], smoothed_gpu0_window_30, color='red', linestyle='-', label='Gleitender Mittelwert (Fenster=30)')
plt.title('GPU-0-Auslastung pro Epoche mit Glättung', fontsize=11)
plt.xlabel('Epoche', fontsize=11)
plt.ylabel('GPU-0-Auslastung (%)', fontsize=11)
plt.legend()
plt.grid(True)

# Save the figure
plt.savefig('Utilization/gpu0_usage_trend.svg', format='svg', bbox_inches='tight')

# Show the plot
plt.show()
