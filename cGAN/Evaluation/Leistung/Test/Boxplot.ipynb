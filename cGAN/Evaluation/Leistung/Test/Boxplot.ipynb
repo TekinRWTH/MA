import pandas as pd
import matplotlib.pyplot as plt

# Load your local CSV file
file_path = '/Users/deniztekin/Documents/Uni/Masterarbeit/inference/inferenz/50/losses_and_timing.csv'  # Replace with the actual path to your file
data = pd.read_csv(file_path)

# Filter the data for Epoch 681 (commented out in the original code)
#epoch_681_data = data[data['Epoch'] == 681]

# Calculate important statistics
Q1 = data['G_loss'].quantile(0.25)
Q3 = data['G_loss'].quantile(0.75)
IQR = Q3 - Q1
lower_bound = Q1 - 1.5 * IQR
upper_bound = Q3 + 1.5 * IQR
median = data['G_loss'].median()
min_value = data['G_loss'].min()
max_value = data['G_loss'].max()

# Find outliers
outliers = data[
    (data['G_loss'] < lower_bound) | (data['G_loss'] > upper_bound)
]

# Display all statistical information
print("Important Statistics for Epoch 681:")
print(f"Median: {median}")
print(f"Q1 (25th Percentile): {Q1}")
print(f"Q3 (75th Percentile): {Q3}")
print(f"IQR: {IQR}")
print(f"Lower Bound (Whisker): {lower_bound}")
print(f"Upper Bound (Whisker): {upper_bound}")
print(f"Minimum Value: {min_value}")
print(f"Maximum Value: {max_value}")
print(f"Outliers:\n{outliers['G_loss']}")

# --- ADDED CODE: Write the above statistics to a .txt file ---
txt_file_path = '/Users/deniztekin/Documents/Uni/Masterarbeit/inference/inferenz/50/stats_681.txt'  # Modify as needed
with open(txt_file_path, 'w') as stats_file:
    stats_file.write("Important Statistics for Epoch 681:\n")
    stats_file.write(f"Median: {median}\n")
    stats_file.write(f"Q1 (25th Percentile): {Q1}\n")
    stats_file.write(f"Q3 (75th Percentile): {Q3}\n")
    stats_file.write(f"IQR: {IQR}\n")
    stats_file.write(f"Lower Bound (Whisker): {lower_bound}\n")
    stats_file.write(f"Upper Bound (Whisker): {upper_bound}\n")
    stats_file.write(f"Minimum Value: {min_value}\n")
    stats_file.write(f"Maximum Value: {max_value}\n")
    stats_file.write("Outliers:\n")
    stats_file.write(f"{outliers['G_loss']}\n")
# -----------------------------------------------------------

# Boxplot for FID Scores in Epoch 681
plt.figure(figsize=(8, 6))
plt.boxplot(data['G_loss'], vert=True, patch_artist=True)

# Add labels and title
plt.title(r'Boxplot von $G_{loss}$ der Epoche 681')
plt.ylabel(r'$G_{loss}$')

plt.ylim(0, 9)

plt.grid(axis='y', linestyle='--', alpha=0.7)

# Save the plot as an SVG file
output_path = '/Users/deniztekin/Documents/Uni/Masterarbeit/inference/inferenz/50/boxplot_G_loss_681_total.svg'  
plt.savefig(output_path, format='svg', bbox_inches='tight')

# Show the plot
plt.show()
