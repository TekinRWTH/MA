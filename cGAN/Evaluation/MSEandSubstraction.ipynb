import cv2
import numpy as np
import matplotlib.pyplot as plt

# Lade das echte Bild und das generierte Bild
real_image = cv2.imread("/Users/deniztekin/Documents/Uni/Masterarbeit/label/label_1_batch_16.tiff", cv2.IMREAD_GRAYSCALE)
gen_image = cv2.imread("/Users/deniztekin/Documents/Uni/Masterarbeit/y_gen/y_gen_255_batch_16.tiff", cv2.IMREAD_GRAYSCALE)

# Größenanpassung falls notwendig
gen_image = cv2.resize(gen_image, (real_image.shape[1], real_image.shape[0]))

# Berechnung der Differenz
diff = cv2.absdiff(real_image, gen_image)

# Darstellung des Differenzbildes mit gleicher Größe für alle
fig, axes = plt.subplots(1, 3, figsize=(15, 5), constrained_layout=True)

# Echtes Bild
axes[0].imshow(real_image, cmap='gray')
axes[0].set_title("TI", fontsize = 16)
axes[0].axis("off")

# Generiertes Bild
axes[1].imshow(gen_image, cmap='gray')
axes[1].set_title("Generiertes Bild", fontsize = 16)
axes[1].axis("off")

# Differenzbild mit Heatmap
im = axes[2].imshow(diff, cmap='hot')
axes[2].set_title("Differenz", fontsize = 16)
axes[2].axis("off")

# Farbbalken neben dem dritten Plot platzieren
cbar = fig.colorbar(im, ax=axes[2], fraction=0.046, pad=0.02)

# Speichern als SVG
plt.savefig("differenz_visualisierung.svg", format="svg", bbox_inches="tight")

# Anzeigen der Grafik
plt.show()
