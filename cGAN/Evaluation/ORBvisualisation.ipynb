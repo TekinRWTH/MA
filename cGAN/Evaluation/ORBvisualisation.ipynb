import cv2
import numpy as np
import matplotlib.pyplot as plt

# Lade das echte Bild und das generierte Bild
real_image = cv2.imread("/Users/deniztekin/Documents/Uni/Masterarbeit/label/label_1_batch_16.tiff", cv2.IMREAD_GRAYSCALE)
gen_image = cv2.imread("/Users/deniztekin/Documents/Uni/Masterarbeit/y_gen/y_gen_255_batch_16.tiff", cv2.IMREAD_GRAYSCALE)

# Größenanpassung falls notwendig
gen_image = cv2.resize(gen_image, (real_image.shape[1], real_image.shape[0]))

# Initialisiere den ORB-Detektor
orb = cv2.ORB_create()

# Keypoints und Deskriptoren berechnen
kp1, des1 = orb.detectAndCompute(real_image, None)
kp2, des2 = orb.detectAndCompute(gen_image, None)

# Matcher definieren (Brute-Force mit Hamming-Distanz)
bf = cv2.BFMatcher(cv2.NORM_HAMMING, crossCheck=True)

# Features matchen
matches = bf.match(des1, des2)

# Matches nach Qualität sortieren (niedrigere Distanz = bessere Übereinstimmung)
matches = sorted(matches, key=lambda x: x.distance)

# Zeichne die besten Matches (z. B. die 50 besten)
match_image = cv2.drawMatches(real_image, kp1, gen_image, kp2,matches ,None, flags=cv2.DrawMatchesFlags_NOT_DRAW_SINGLE_POINTS)

# Darstellung der Matches
plt.figure(figsize=(12, 6))
plt.imshow(cv2.cvtColor(match_image, cv2.COLOR_BGR2RGB))
plt.title("ORB", fontsize=16)
plt.axis("off")

# Speichern als SVG
plt.savefig("orb_feature_matches.svg", format="svg", bbox_inches="tight")

# Anzeigen der Grafik
plt.show()
