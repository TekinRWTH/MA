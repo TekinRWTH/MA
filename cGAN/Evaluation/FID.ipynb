import os
import re
import glob
import csv
import numpy as np
import torch
import torch.nn as nn
import torchvision.transforms as transforms
from PIL import Image
from tqdm import tqdm

# Use SciPy for matrix sqrt
from scipy.linalg import sqrtm

from torchvision.models import inception_v3, Inception_V3_Weights

# ----------------------------------------------------
# 1) FID Utilities
# ----------------------------------------------------

def calculate_frechet_distance(mu1, sigma1, mu2, sigma2):
    """
    Calculate the Frechet Inception Distance (FID) between two Gaussians:
      N(mu1, sigma1) and N(mu2, sigma2).

    Uses scipy.linalg.sqrtm. We must handle its "info" return if disp=False.
    """
    # Convert Torch tensors -> NumPy arrays
    mu1_np = mu1.cpu().numpy()
    mu2_np = mu2.cpu().numpy()
    sigma1_np = sigma1.cpu().numpy()
    sigma2_np = sigma2.cpu().numpy()

    # Mean difference
    diff = mu1_np - mu2_np
    diff_sq = diff.dot(diff)  # scalar

    # Product of covariances
    cov_prod = sigma1_np.dot(sigma2_np)

    # sqrtm(...) returns (matrix, info) if disp=False
    covmean, info = sqrtm(cov_prod, disp=False)

    # If the algorithm didn't converge, fallback to small identity
    if info != 0:
        covmean = np.eye(sigma1_np.shape[0]) * 1e-6

    # If covmean is complex due to numerical errors, just take real part
    if np.iscomplexobj(covmean):
        covmean = covmean.real

    # If still not finite, fallback again
    if not np.all(np.isfinite(covmean)):
        covmean = np.eye(sigma1_np.shape[0]) * 1e-6

    tr_covmean = np.trace(covmean)

    # FID formula
    fid = diff_sq + np.trace(sigma1_np) + np.trace(sigma2_np) - 2 * tr_covmean
    return float(fid)

def get_activations(model, image_paths, transform, device="cpu", batch_size=32):
    """
    Load images in batches, preprocess them, pass through Inception,
    and return the pool3 activations (shape [N, 2048]).
    """
    model.eval()
    activations = []

    for i in range(0, len(image_paths), batch_size):
        batch_paths = image_paths[i : i + batch_size]
        batch_images = []
        for path in batch_paths:
            img = Image.open(path).convert("RGB")
            img = transform(img)
            batch_images.append(img)

        batch_tensor = torch.stack(batch_images, dim=0).to(device)

        with torch.no_grad():
            feats = model(batch_tensor)  # [batch_size, 2048]
        activations.append(feats.cpu().numpy())

    activations = np.concatenate(activations, axis=0)
    return activations

def compute_statistics_of_path(model, paths, transform, device="cpu", batch_size=32):
    """
    Compute the mean (mu) and covariance (sigma) of Inception's pool3 features
    for images in 'paths'.
    """
    # shape: (num_images, 2048)
    act = get_activations(model, paths, transform, device, batch_size)

    mu = np.mean(act, axis=0)         # shape (2048,)
    sigma = np.cov(act, rowvar=False) # shape (2048, 2048)

    mu = torch.tensor(mu, dtype=torch.float32)
    sigma = torch.tensor(sigma, dtype=torch.float32)
    return mu, sigma

# ----------------------------------------------------
# 2) Load Inception Model (pool3 features)
# ----------------------------------------------------

def load_inception_model(device="cpu"):
    """
    Load Inception V3 (pretrained on ImageNet).
    Then remove the final FC layer so the model outputs the 2048-d pool3 features.
    """
    # By default: weights=Inception_V3_Weights.IMAGENET1K_V1 => aux_logits=True
    inception = inception_v3(weights=Inception_V3_Weights.IMAGENET1K_V1)
    # Disable the auxiliary output after loading
    inception.aux_logits = False
    # Replace final fully-connected with Identity => outputs 2048-d
    inception.fc = nn.Identity()

    inception.eval()
    return inception.to(device)

# ----------------------------------------------------
# 3) Main FID Computation with CSV Output
# ----------------------------------------------------

def main():
    # Update paths as needed
    PATH_GENERATED = "/Users/deniztekin/Documents/Uni/Masterarbeit/y_gen/"      # Folder with y_gen_<epoch>_batch_<batch>.tiff
    PATH_LABELS    = "/Users/deniztekin/Documents/Uni/Masterarbeit/label/"         # Folder with label_1_batch_<batch>.tiff
    CSV_OUTPUT_PATH = "/Users/deniztekin/Documents/Uni/Masterarbeit/fid_richtig.csv"

    device = torch.device("cuda" if torch.cuda.is_available() else "cpu")

    # 1) Load the Inception model
    inception_model = load_inception_model(device)

    # 2) Define transform for Inception: 299×299 + normalization
    inception_transform = transforms.Compose([
        transforms.Resize((299, 299)),
        transforms.ToTensor(),
        transforms.Normalize(
            mean=[0.485, 0.456, 0.406],
            std =[0.229, 0.224, 0.225],
        ),
    ])

    # 3) Collect label-1 images, compute reference stats
    label_images = sorted(glob.glob(os.path.join(PATH_LABELS, "label_1_batch_*.tiff")))
    if len(label_images) == 0:
        print("No label-1 images found! Check your PATH_LABELS path/pattern.")
        return

    mu_label, sigma_label = compute_statistics_of_path(
        inception_model,
        label_images,
        inception_transform,
        device=device,
        batch_size=32
    )

    # 4) Collect generated images by epoch
    gen_image_paths = sorted(glob.glob(os.path.join(PATH_GENERATED, "y_gen_*_batch_*.tiff")))
    epoch_pattern = re.compile(r"y_gen_(\d+)_batch_\d+\.tiff")
    epoch_dict = {}

    for path in gen_image_paths:
        match = epoch_pattern.search(os.path.basename(path))
        if match:
            epoch = int(match.group(1))
            epoch_dict.setdefault(epoch, []).append(path)

    # 5) Compute FID for each epoch
    fid_results = []
    for epoch in sorted(epoch_dict.keys()):
        epoch_paths = epoch_dict[epoch]
        if not epoch_paths:
            continue

        mu_gen, sigma_gen = compute_statistics_of_path(
            inception_model,
            epoch_paths,
            inception_transform,
            device=device,
            batch_size=32
        )

        fid_value = calculate_frechet_distance(mu_gen, sigma_gen, mu_label, sigma_label)
        fid_results.append((epoch, fid_value))
        print(f"Epoch {epoch}: FID = {fid_value:.4f}")

    # 6) Write results to CSV
    if fid_results:
        with open(CSV_OUTPUT_PATH, "w", newline="") as f:
            writer = csv.writer(f)
            writer.writerow(["epoch", "FID"])
            for epoch, fid_score in fid_results:
                writer.writerow([epoch, fid_score])

        print(f"\nFID results saved to: {CSV_OUTPUT_PATH}")
    else:
        print("No generated images found or no matching y_gen_<epoch> filenames.")

if __name__ == "__main__":
    main()
